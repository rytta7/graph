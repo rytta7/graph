{
  "cells": [
    {
      "cell_type": "markdown",
      "metadata": {
        "id": "W99-GbyMgg0k"
      },
      "source": [
        "## Install graph libraries"
      ]
    },
    {
      "cell_type": "code",
      "execution_count": 1,
      "metadata": {},
      "outputs": [
        {
          "name": "stdout",
          "output_type": "stream",
          "text": [
            "Requirement already satisfied: neo4j-driver in c:\\users\\user\\anaconda3\\lib\\site-packages (5.15.0)\n",
            "Requirement already satisfied: pytz in c:\\users\\user\\anaconda3\\lib\\site-packages (from neo4j-driver) (2022.7)\n",
            "Note: you may need to restart the kernel to use updated packages.\n"
          ]
        }
      ],
      "source": [
        "pip install neo4j-driver"
      ]
    },
    {
      "cell_type": "code",
      "execution_count": 2,
      "metadata": {},
      "outputs": [
        {
          "name": "stdout",
          "output_type": "stream",
          "text": [
            "Requirement already satisfied: graphdatascience in c:\\users\\user\\anaconda3\\lib\\site-packages (1.8)\n",
            "Requirement already satisfied: multimethod<2.0,>=1.0 in c:\\users\\user\\anaconda3\\lib\\site-packages (from graphdatascience) (1.10)\n",
            "Requirement already satisfied: neo4j<6.0,>=4.4.2 in c:\\users\\user\\anaconda3\\lib\\site-packages (from graphdatascience) (5.15.0)\n",
            "Requirement already satisfied: pandas<3.0,>=1.0 in c:\\users\\user\\anaconda3\\lib\\site-packages (from graphdatascience) (1.5.3)\n",
            "Requirement already satisfied: pyarrow<14.0,>=4.0 in c:\\users\\user\\anaconda3\\lib\\site-packages (from graphdatascience) (11.0.0)\n",
            "Requirement already satisfied: textdistance<5.0,>=4.0 in c:\\users\\user\\anaconda3\\lib\\site-packages (from graphdatascience) (4.2.1)\n",
            "Requirement already satisfied: tqdm<5.0,>=4.0 in c:\\users\\user\\anaconda3\\lib\\site-packages (from graphdatascience) (4.65.0)\n",
            "Requirement already satisfied: typing-extensions<5.0,>=4.0 in c:\\users\\user\\anaconda3\\lib\\site-packages (from graphdatascience) (4.7.1)\n",
            "Requirement already satisfied: pytz in c:\\users\\user\\anaconda3\\lib\\site-packages (from neo4j<6.0,>=4.4.2->graphdatascience) (2022.7)\n",
            "Requirement already satisfied: python-dateutil>=2.8.1 in c:\\users\\user\\anaconda3\\lib\\site-packages (from pandas<3.0,>=1.0->graphdatascience) (2.8.2)\n",
            "Requirement already satisfied: numpy>=1.21.0 in c:\\users\\user\\anaconda3\\lib\\site-packages (from pandas<3.0,>=1.0->graphdatascience) (1.24.3)\n",
            "Requirement already satisfied: colorama in c:\\users\\user\\anaconda3\\lib\\site-packages (from tqdm<5.0,>=4.0->graphdatascience) (0.4.6)\n",
            "Requirement already satisfied: six>=1.5 in c:\\users\\user\\anaconda3\\lib\\site-packages (from python-dateutil>=2.8.1->pandas<3.0,>=1.0->graphdatascience) (1.16.0)\n",
            "Note: you may need to restart the kernel to use updated packages.\n"
          ]
        }
      ],
      "source": [
        "pip install graphdatascience"
      ]
    },
    {
      "cell_type": "code",
      "execution_count": 3,
      "metadata": {},
      "outputs": [
        {
          "name": "stdout",
          "output_type": "stream",
          "text": [
            "Requirement already satisfied: pandas in c:\\users\\user\\anaconda3\\lib\\site-packages (1.5.3)\n",
            "Requirement already satisfied: numpy in c:\\users\\user\\anaconda3\\lib\\site-packages (1.24.3)\n",
            "Requirement already satisfied: pathlib in c:\\users\\user\\anaconda3\\lib\\site-packages (1.0.1)\n",
            "Note: you may need to restart the kernel to use updated packages.\n"
          ]
        },
        {
          "name": "stderr",
          "output_type": "stream",
          "text": [
            "ERROR: Could not find a version that satisfies the requirement sys (from versions: none)\n",
            "ERROR: No matching distribution found for sys\n"
          ]
        }
      ],
      "source": [
        "pip install pandas numpy pathlib sys"
      ]
    },
    {
      "cell_type": "markdown",
      "metadata": {
        "id": "MWCVBohcgqKr"
      },
      "source": [
        "Load libraries"
      ]
    },
    {
      "cell_type": "code",
      "execution_count": 4,
      "metadata": {
        "id": "mJN9J1qkluI2"
      },
      "outputs": [],
      "source": [
        "import sys\n",
        "from pathlib import Path\n",
        "import pandas as pd\n",
        "import numpy as np\n",
        "from graphdatascience import GraphDataScience"
      ]
    },
    {
      "cell_type": "markdown",
      "metadata": {
        "id": "CLsQ9AapgyBB"
      },
      "source": [
        "Connect to Neo4j database and test"
      ]
    },
    {
      "cell_type": "code",
      "execution_count": 5,
      "metadata": {},
      "outputs": [
        {
          "data": {
            "text/plain": [
              "'2.5.5'"
            ]
          },
          "execution_count": 5,
          "metadata": {},
          "output_type": "execute_result"
        }
      ],
      "source": [
        "# Neo4j Connection details\n",
        "DB_ULR = 'bolt://3.238.155.148:7687'\n",
        "DB_USER = 'neo4j'\n",
        "DB_PASS = 'growth-laboratory-party'\n",
        "gds = GraphDataScience(DB_ULR, auth=(DB_USER, DB_PASS))\n",
        "gds.version()"
      ]
    },
    {
      "cell_type": "code",
      "execution_count": 6,
      "metadata": {
        "colab": {
          "base_uri": "https://localhost:8080/",
          "height": 81
        },
        "id": "fyK2abPOnaNm",
        "outputId": "97d60d42-d372-4e73-b172-55ebf62a6e7f"
      },
      "outputs": [
        {
          "data": {
            "text/html": [
              "<div>\n",
              "<style scoped>\n",
              "    .dataframe tbody tr th:only-of-type {\n",
              "        vertical-align: middle;\n",
              "    }\n",
              "\n",
              "    .dataframe tbody tr th {\n",
              "        vertical-align: top;\n",
              "    }\n",
              "\n",
              "    .dataframe thead th {\n",
              "        text-align: right;\n",
              "    }\n",
              "</style>\n",
              "<table border=\"1\" class=\"dataframe\">\n",
              "  <thead>\n",
              "    <tr style=\"text-align: right;\">\n",
              "      <th></th>\n",
              "      <th>COUNT(n)</th>\n",
              "    </tr>\n",
              "  </thead>\n",
              "  <tbody>\n",
              "    <tr>\n",
              "      <th>0</th>\n",
              "      <td>8671</td>\n",
              "    </tr>\n",
              "  </tbody>\n",
              "</table>\n",
              "</div>"
            ],
            "text/plain": [
              "   COUNT(n)\n",
              "0      8671"
            ]
          },
          "execution_count": 6,
          "metadata": {},
          "output_type": "execute_result"
        }
      ],
      "source": [
        "nodes = gds.run_cypher('''\n",
        "    MATCH (n)\n",
        "    RETURN COUNT(n)\n",
        "''') \n",
        "nodes.head()"
      ]
    },
    {
      "cell_type": "markdown",
      "metadata": {
        "id": "oOb0P3gFg_rl"
      },
      "source": [
        "## Load MovieLens data.\n",
        "Here we use data from [GroupLens.org](https://grouplens.org/datasets/movielens/). Espesially, the \"[1M Dataset](https://files.grouplens.org/datasets/movielens/ml-1m.zip)\". The zip file is decompressed and the contens are placed in the same folder as the notebook (or in case of colab are uploaded to colab).   \n",
        "\n",
        "For better results it is suggested that a bigger dataset is used."
      ]
    },
    {
      "cell_type": "code",
      "execution_count": 7,
      "metadata": {
        "colab": {
          "base_uri": "https://localhost:8080/"
        },
        "id": "PgJbBZPItCNR",
        "outputId": "13a8bb12-8664-41a6-ddd5-152a77849a6a"
      },
      "outputs": [
        {
          "name": "stderr",
          "output_type": "stream",
          "text": [
            "C:\\Users\\user\\AppData\\Local\\Temp\\ipykernel_4568\\1228820786.py:1: ParserWarning: Falling back to the 'python' engine because the 'c' engine does not support regex separators (separators > 1 char and different from '\\s+' are interpreted as regex); you can avoid this warning by specifying engine='python'.\n",
            "  movies = pd.read_csv('movies_minimal_test.dat',sep='::',encoding = \"ISO-8859-1\",names=['MovieID','Title','Genres'])\n",
            "C:\\Users\\user\\AppData\\Local\\Temp\\ipykernel_4568\\1228820786.py:2: ParserWarning: Falling back to the 'python' engine because the 'c' engine does not support regex separators (separators > 1 char and different from '\\s+' are interpreted as regex); you can avoid this warning by specifying engine='python'.\n",
            "  ratings = pd.read_csv('ratings_minimal_test.dat',sep='::',encoding = \"ISO-8859-1\",names=['UserID','MovieID','Rating','Timestamp'])\n",
            "C:\\Users\\user\\AppData\\Local\\Temp\\ipykernel_4568\\1228820786.py:3: ParserWarning: Falling back to the 'python' engine because the 'c' engine does not support regex separators (separators > 1 char and different from '\\s+' are interpreted as regex); you can avoid this warning by specifying engine='python'.\n",
            "  users = pd.read_csv('users_minimal_test.dat',sep='::',encoding = \"ISO-8859-1\",names=['UserID','Gender','Age','Occupation','Zip_code'])\n"
          ]
        }
      ],
      "source": [
        "movies = pd.read_csv('movies_minimal_test.dat',sep='::',encoding = \"ISO-8859-1\",names=['MovieID','Title','Genres'])\n",
        "ratings = pd.read_csv('ratings_minimal_test.dat',sep='::',encoding = \"ISO-8859-1\",names=['UserID','MovieID','Rating','Timestamp'])\n",
        "users = pd.read_csv('users_minimal_test.dat',sep='::',encoding = \"ISO-8859-1\",names=['UserID','Gender','Age','Occupation','Zip_code'])"
      ]
    },
    {
      "cell_type": "code",
      "execution_count": 8,
      "metadata": {
        "colab": {
          "base_uri": "https://localhost:8080/",
          "height": 584
        },
        "id": "_zlgvbIJuS0A",
        "outputId": "5304e5d2-2398-4702-e449-24ab416bb088"
      },
      "outputs": [
        {
          "data": {
            "text/html": [
              "<div>\n",
              "<style scoped>\n",
              "    .dataframe tbody tr th:only-of-type {\n",
              "        vertical-align: middle;\n",
              "    }\n",
              "\n",
              "    .dataframe tbody tr th {\n",
              "        vertical-align: top;\n",
              "    }\n",
              "\n",
              "    .dataframe thead th {\n",
              "        text-align: right;\n",
              "    }\n",
              "</style>\n",
              "<table border=\"1\" class=\"dataframe\">\n",
              "  <thead>\n",
              "    <tr style=\"text-align: right;\">\n",
              "      <th></th>\n",
              "      <th>MovieID</th>\n",
              "      <th>Title</th>\n",
              "      <th>Genres</th>\n",
              "    </tr>\n",
              "  </thead>\n",
              "  <tbody>\n",
              "    <tr>\n",
              "      <th>0</th>\n",
              "      <td>1</td>\n",
              "      <td>Toy Story (1995)</td>\n",
              "      <td>Animation|Children's|Comedy</td>\n",
              "    </tr>\n",
              "    <tr>\n",
              "      <th>1</th>\n",
              "      <td>2</td>\n",
              "      <td>Jumanji (1995)</td>\n",
              "      <td>Adventure|Children's|Fantasy</td>\n",
              "    </tr>\n",
              "    <tr>\n",
              "      <th>2</th>\n",
              "      <td>3</td>\n",
              "      <td>Grumpier Old Men (1995)</td>\n",
              "      <td>Comedy|Romance</td>\n",
              "    </tr>\n",
              "    <tr>\n",
              "      <th>3</th>\n",
              "      <td>4</td>\n",
              "      <td>Waiting to Exhale (1995)</td>\n",
              "      <td>Comedy|Drama</td>\n",
              "    </tr>\n",
              "    <tr>\n",
              "      <th>4</th>\n",
              "      <td>5</td>\n",
              "      <td>Father of the Bride Part II (1995)</td>\n",
              "      <td>Comedy</td>\n",
              "    </tr>\n",
              "    <tr>\n",
              "      <th>5</th>\n",
              "      <td>6</td>\n",
              "      <td>Heat (1995)</td>\n",
              "      <td>Action|Crime|Thriller</td>\n",
              "    </tr>\n",
              "    <tr>\n",
              "      <th>6</th>\n",
              "      <td>7</td>\n",
              "      <td>Sabrina (1995)</td>\n",
              "      <td>Comedy|Romance</td>\n",
              "    </tr>\n",
              "    <tr>\n",
              "      <th>7</th>\n",
              "      <td>8</td>\n",
              "      <td>Tom and Huck (1995)</td>\n",
              "      <td>Adventure|Children's</td>\n",
              "    </tr>\n",
              "    <tr>\n",
              "      <th>8</th>\n",
              "      <td>9</td>\n",
              "      <td>Sudden Death (1995)</td>\n",
              "      <td>Action</td>\n",
              "    </tr>\n",
              "    <tr>\n",
              "      <th>9</th>\n",
              "      <td>10</td>\n",
              "      <td>GoldenEye (1995)</td>\n",
              "      <td>Action|Adventure|Thriller</td>\n",
              "    </tr>\n",
              "    <tr>\n",
              "      <th>10</th>\n",
              "      <td>11</td>\n",
              "      <td>A League of Their Own (1992)</td>\n",
              "      <td>Action|Adventure|Thriller</td>\n",
              "    </tr>\n",
              "    <tr>\n",
              "      <th>11</th>\n",
              "      <td>12</td>\n",
              "      <td>Charlie Wilson's War (2007)</td>\n",
              "      <td>Adventure|Thriller</td>\n",
              "    </tr>\n",
              "    <tr>\n",
              "      <th>12</th>\n",
              "      <td>13</td>\n",
              "      <td>Bicentennial Man (1999)</td>\n",
              "      <td>Comedy|Romance</td>\n",
              "    </tr>\n",
              "    <tr>\n",
              "      <th>13</th>\n",
              "      <td>14</td>\n",
              "      <td>Something's Gotta Give (2003)</td>\n",
              "      <td>Comedy|Drama|Adventure</td>\n",
              "    </tr>\n",
              "    <tr>\n",
              "      <th>14</th>\n",
              "      <td>15</td>\n",
              "      <td>Father of the Bride Part I (1997)</td>\n",
              "      <td>Comedy</td>\n",
              "    </tr>\n",
              "    <tr>\n",
              "      <th>15</th>\n",
              "      <td>16</td>\n",
              "      <td>Cast Away (2000)</td>\n",
              "      <td>Action|Crime|Thriller|Adventure</td>\n",
              "    </tr>\n",
              "    <tr>\n",
              "      <th>16</th>\n",
              "      <td>17</td>\n",
              "      <td>The Birdcage (1996)</td>\n",
              "      <td>Drama|Romance|Adventure</td>\n",
              "    </tr>\n",
              "    <tr>\n",
              "      <th>17</th>\n",
              "      <td>18</td>\n",
              "      <td>The Replacements (2000)</td>\n",
              "      <td>Adventure||Comedy</td>\n",
              "    </tr>\n",
              "    <tr>\n",
              "      <th>18</th>\n",
              "      <td>19</td>\n",
              "      <td>Johnny Mnemonic (1995)</td>\n",
              "      <td>Action</td>\n",
              "    </tr>\n",
              "    <tr>\n",
              "      <th>19</th>\n",
              "      <td>20</td>\n",
              "      <td>Apollo 13 (1995)</td>\n",
              "      <td>Action|Adventure|Thriller</td>\n",
              "    </tr>\n",
              "  </tbody>\n",
              "</table>\n",
              "</div>"
            ],
            "text/plain": [
              "    MovieID                               Title  \\\n",
              "0         1                    Toy Story (1995)   \n",
              "1         2                      Jumanji (1995)   \n",
              "2         3             Grumpier Old Men (1995)   \n",
              "3         4            Waiting to Exhale (1995)   \n",
              "4         5  Father of the Bride Part II (1995)   \n",
              "5         6                         Heat (1995)   \n",
              "6         7                      Sabrina (1995)   \n",
              "7         8                 Tom and Huck (1995)   \n",
              "8         9                 Sudden Death (1995)   \n",
              "9        10                    GoldenEye (1995)   \n",
              "10       11        A League of Their Own (1992)   \n",
              "11       12         Charlie Wilson's War (2007)   \n",
              "12       13             Bicentennial Man (1999)   \n",
              "13       14       Something's Gotta Give (2003)   \n",
              "14       15   Father of the Bride Part I (1997)   \n",
              "15       16                    Cast Away (2000)   \n",
              "16       17                 The Birdcage (1996)   \n",
              "17       18             The Replacements (2000)   \n",
              "18       19              Johnny Mnemonic (1995)   \n",
              "19       20                    Apollo 13 (1995)   \n",
              "\n",
              "                             Genres  \n",
              "0       Animation|Children's|Comedy  \n",
              "1      Adventure|Children's|Fantasy  \n",
              "2                    Comedy|Romance  \n",
              "3                      Comedy|Drama  \n",
              "4                            Comedy  \n",
              "5             Action|Crime|Thriller  \n",
              "6                    Comedy|Romance  \n",
              "7              Adventure|Children's  \n",
              "8                            Action  \n",
              "9         Action|Adventure|Thriller  \n",
              "10        Action|Adventure|Thriller  \n",
              "11               Adventure|Thriller  \n",
              "12                   Comedy|Romance  \n",
              "13           Comedy|Drama|Adventure  \n",
              "14                           Comedy  \n",
              "15  Action|Crime|Thriller|Adventure  \n",
              "16          Drama|Romance|Adventure  \n",
              "17                Adventure||Comedy  \n",
              "18                           Action  \n",
              "19        Action|Adventure|Thriller  "
            ]
          },
          "metadata": {},
          "output_type": "display_data"
        },
        {
          "data": {
            "text/html": [
              "<div>\n",
              "<style scoped>\n",
              "    .dataframe tbody tr th:only-of-type {\n",
              "        vertical-align: middle;\n",
              "    }\n",
              "\n",
              "    .dataframe tbody tr th {\n",
              "        vertical-align: top;\n",
              "    }\n",
              "\n",
              "    .dataframe thead th {\n",
              "        text-align: right;\n",
              "    }\n",
              "</style>\n",
              "<table border=\"1\" class=\"dataframe\">\n",
              "  <thead>\n",
              "    <tr style=\"text-align: right;\">\n",
              "      <th></th>\n",
              "      <th>UserID</th>\n",
              "      <th>Gender</th>\n",
              "      <th>Age</th>\n",
              "      <th>Occupation</th>\n",
              "      <th>Zip_code</th>\n",
              "    </tr>\n",
              "  </thead>\n",
              "  <tbody>\n",
              "    <tr>\n",
              "      <th>0</th>\n",
              "      <td>1</td>\n",
              "      <td>F</td>\n",
              "      <td>1</td>\n",
              "      <td>10</td>\n",
              "      <td>48067</td>\n",
              "    </tr>\n",
              "    <tr>\n",
              "      <th>1</th>\n",
              "      <td>2</td>\n",
              "      <td>M</td>\n",
              "      <td>56</td>\n",
              "      <td>16</td>\n",
              "      <td>70072</td>\n",
              "    </tr>\n",
              "    <tr>\n",
              "      <th>2</th>\n",
              "      <td>3</td>\n",
              "      <td>M</td>\n",
              "      <td>25</td>\n",
              "      <td>15</td>\n",
              "      <td>55117</td>\n",
              "    </tr>\n",
              "    <tr>\n",
              "      <th>3</th>\n",
              "      <td>4</td>\n",
              "      <td>F</td>\n",
              "      <td>1</td>\n",
              "      <td>11</td>\n",
              "      <td>48088</td>\n",
              "    </tr>\n",
              "    <tr>\n",
              "      <th>4</th>\n",
              "      <td>5</td>\n",
              "      <td>F</td>\n",
              "      <td>58</td>\n",
              "      <td>18</td>\n",
              "      <td>70067</td>\n",
              "    </tr>\n",
              "    <tr>\n",
              "      <th>5</th>\n",
              "      <td>6</td>\n",
              "      <td>M</td>\n",
              "      <td>30</td>\n",
              "      <td>15</td>\n",
              "      <td>55229</td>\n",
              "    </tr>\n",
              "    <tr>\n",
              "      <th>6</th>\n",
              "      <td>7</td>\n",
              "      <td>F</td>\n",
              "      <td>8</td>\n",
              "      <td>11</td>\n",
              "      <td>48754</td>\n",
              "    </tr>\n",
              "    <tr>\n",
              "      <th>7</th>\n",
              "      <td>8</td>\n",
              "      <td>F</td>\n",
              "      <td>56</td>\n",
              "      <td>7</td>\n",
              "      <td>70995</td>\n",
              "    </tr>\n",
              "    <tr>\n",
              "      <th>8</th>\n",
              "      <td>9</td>\n",
              "      <td>M</td>\n",
              "      <td>25</td>\n",
              "      <td>22</td>\n",
              "      <td>55224</td>\n",
              "    </tr>\n",
              "    <tr>\n",
              "      <th>9</th>\n",
              "      <td>10</td>\n",
              "      <td>F</td>\n",
              "      <td>13</td>\n",
              "      <td>11</td>\n",
              "      <td>48000</td>\n",
              "    </tr>\n",
              "    <tr>\n",
              "      <th>10</th>\n",
              "      <td>11</td>\n",
              "      <td>M</td>\n",
              "      <td>44</td>\n",
              "      <td>18</td>\n",
              "      <td>70176</td>\n",
              "    </tr>\n",
              "    <tr>\n",
              "      <th>11</th>\n",
              "      <td>12</td>\n",
              "      <td>M</td>\n",
              "      <td>31</td>\n",
              "      <td>15</td>\n",
              "      <td>55232</td>\n",
              "    </tr>\n",
              "  </tbody>\n",
              "</table>\n",
              "</div>"
            ],
            "text/plain": [
              "    UserID Gender  Age  Occupation  Zip_code\n",
              "0        1      F    1          10     48067\n",
              "1        2      M   56          16     70072\n",
              "2        3      M   25          15     55117\n",
              "3        4      F    1          11     48088\n",
              "4        5      F   58          18     70067\n",
              "5        6      M   30          15     55229\n",
              "6        7      F    8          11     48754\n",
              "7        8      F   56           7     70995\n",
              "8        9      M   25          22     55224\n",
              "9       10      F   13          11     48000\n",
              "10      11      M   44          18     70176\n",
              "11      12      M   31          15     55232"
            ]
          },
          "metadata": {},
          "output_type": "display_data"
        },
        {
          "data": {
            "text/html": [
              "<div>\n",
              "<style scoped>\n",
              "    .dataframe tbody tr th:only-of-type {\n",
              "        vertical-align: middle;\n",
              "    }\n",
              "\n",
              "    .dataframe tbody tr th {\n",
              "        vertical-align: top;\n",
              "    }\n",
              "\n",
              "    .dataframe thead th {\n",
              "        text-align: right;\n",
              "    }\n",
              "</style>\n",
              "<table border=\"1\" class=\"dataframe\">\n",
              "  <thead>\n",
              "    <tr style=\"text-align: right;\">\n",
              "      <th></th>\n",
              "      <th>UserID</th>\n",
              "      <th>MovieID</th>\n",
              "      <th>Rating</th>\n",
              "      <th>Timestamp</th>\n",
              "    </tr>\n",
              "  </thead>\n",
              "  <tbody>\n",
              "    <tr>\n",
              "      <th>0</th>\n",
              "      <td>1</td>\n",
              "      <td>1</td>\n",
              "      <td>5</td>\n",
              "      <td>978300760</td>\n",
              "    </tr>\n",
              "    <tr>\n",
              "      <th>1</th>\n",
              "      <td>1</td>\n",
              "      <td>20</td>\n",
              "      <td>5</td>\n",
              "      <td>978302109</td>\n",
              "    </tr>\n",
              "    <tr>\n",
              "      <th>2</th>\n",
              "      <td>8</td>\n",
              "      <td>4</td>\n",
              "      <td>3</td>\n",
              "      <td>978301968</td>\n",
              "    </tr>\n",
              "    <tr>\n",
              "      <th>3</th>\n",
              "      <td>2</td>\n",
              "      <td>11</td>\n",
              "      <td>5</td>\n",
              "      <td>978300760</td>\n",
              "    </tr>\n",
              "    <tr>\n",
              "      <th>4</th>\n",
              "      <td>2</td>\n",
              "      <td>2</td>\n",
              "      <td>5</td>\n",
              "      <td>978302109</td>\n",
              "    </tr>\n",
              "    <tr>\n",
              "      <th>5</th>\n",
              "      <td>5</td>\n",
              "      <td>1</td>\n",
              "      <td>4</td>\n",
              "      <td>978302109</td>\n",
              "    </tr>\n",
              "    <tr>\n",
              "      <th>6</th>\n",
              "      <td>3</td>\n",
              "      <td>10</td>\n",
              "      <td>5</td>\n",
              "      <td>978302109</td>\n",
              "    </tr>\n",
              "    <tr>\n",
              "      <th>7</th>\n",
              "      <td>4</td>\n",
              "      <td>1</td>\n",
              "      <td>2</td>\n",
              "      <td>978300560</td>\n",
              "    </tr>\n",
              "    <tr>\n",
              "      <th>8</th>\n",
              "      <td>7</td>\n",
              "      <td>16</td>\n",
              "      <td>5</td>\n",
              "      <td>978302180</td>\n",
              "    </tr>\n",
              "    <tr>\n",
              "      <th>9</th>\n",
              "      <td>5</td>\n",
              "      <td>11</td>\n",
              "      <td>4</td>\n",
              "      <td>978301950</td>\n",
              "    </tr>\n",
              "    <tr>\n",
              "      <th>10</th>\n",
              "      <td>2</td>\n",
              "      <td>5</td>\n",
              "      <td>1</td>\n",
              "      <td>978300769</td>\n",
              "    </tr>\n",
              "    <tr>\n",
              "      <th>11</th>\n",
              "      <td>9</td>\n",
              "      <td>20</td>\n",
              "      <td>2</td>\n",
              "      <td>978302139</td>\n",
              "    </tr>\n",
              "    <tr>\n",
              "      <th>12</th>\n",
              "      <td>3</td>\n",
              "      <td>19</td>\n",
              "      <td>4</td>\n",
              "      <td>978302200</td>\n",
              "    </tr>\n",
              "    <tr>\n",
              "      <th>13</th>\n",
              "      <td>3</td>\n",
              "      <td>10</td>\n",
              "      <td>5</td>\n",
              "      <td>978302109</td>\n",
              "    </tr>\n",
              "  </tbody>\n",
              "</table>\n",
              "</div>"
            ],
            "text/plain": [
              "    UserID  MovieID  Rating  Timestamp\n",
              "0        1        1       5  978300760\n",
              "1        1       20       5  978302109\n",
              "2        8        4       3  978301968\n",
              "3        2       11       5  978300760\n",
              "4        2        2       5  978302109\n",
              "5        5        1       4  978302109\n",
              "6        3       10       5  978302109\n",
              "7        4        1       2  978300560\n",
              "8        7       16       5  978302180\n",
              "9        5       11       4  978301950\n",
              "10       2        5       1  978300769\n",
              "11       9       20       2  978302139\n",
              "12       3       19       4  978302200\n",
              "13       3       10       5  978302109"
            ]
          },
          "metadata": {},
          "output_type": "display_data"
        }
      ],
      "source": [
        "display(movies)\n",
        "display(users)\n",
        "display(ratings)"
      ]
    },
    {
      "cell_type": "markdown",
      "metadata": {
        "id": "lerHsbfGjxn7"
      },
      "source": [
        "## Insert data to graph DB"
      ]
    },
    {
      "cell_type": "code",
      "execution_count": 9,
      "metadata": {
        "colab": {
          "base_uri": "https://localhost:8080/",
          "height": 81
        },
        "id": "XFIZyznOv6YT",
        "outputId": "144073f0-5777-4bcd-82af-f4dfdc96db24"
      },
      "outputs": [
        {
          "data": {
            "text/html": [
              "<div>\n",
              "<style scoped>\n",
              "    .dataframe tbody tr th:only-of-type {\n",
              "        vertical-align: middle;\n",
              "    }\n",
              "\n",
              "    .dataframe tbody tr th {\n",
              "        vertical-align: top;\n",
              "    }\n",
              "\n",
              "    .dataframe thead th {\n",
              "        text-align: right;\n",
              "    }\n",
              "</style>\n",
              "<table border=\"1\" class=\"dataframe\">\n",
              "  <thead>\n",
              "    <tr style=\"text-align: right;\">\n",
              "      <th></th>\n",
              "      <th>customers_created</th>\n",
              "    </tr>\n",
              "  </thead>\n",
              "  <tbody>\n",
              "    <tr>\n",
              "      <th>0</th>\n",
              "      <td>12</td>\n",
              "    </tr>\n",
              "  </tbody>\n",
              "</table>\n",
              "</div>"
            ],
            "text/plain": [
              "   customers_created\n",
              "0                 12"
            ]
          },
          "execution_count": 9,
          "metadata": {},
          "output_type": "execute_result"
        }
      ],
      "source": [
        "# Create user nodes\n",
        "gds.run_cypher('create constraint if not exists for (n:User) require (n.id) is node key')\n",
        "create_customer_res = gds.run_cypher('''\n",
        "    unwind $data as row\n",
        "    merge (n:User{id: row.UserID})\n",
        "    set n.Gender = row.Gender\n",
        "    set n.Age =  row.Age \n",
        "    return count(*) as customers_created\n",
        "''', params = {'data': users.to_dict('records')})\n",
        "create_customer_res.head()"
      ]
    },
    {
      "cell_type": "code",
      "execution_count": 10,
      "metadata": {
        "colab": {
          "base_uri": "https://localhost:8080/",
          "height": 81
        },
        "id": "4aq-YDcww6Gj",
        "outputId": "8ae718df-b747-4197-c1d4-9b6bb1b6c098"
      },
      "outputs": [
        {
          "data": {
            "text/html": [
              "<div>\n",
              "<style scoped>\n",
              "    .dataframe tbody tr th:only-of-type {\n",
              "        vertical-align: middle;\n",
              "    }\n",
              "\n",
              "    .dataframe tbody tr th {\n",
              "        vertical-align: top;\n",
              "    }\n",
              "\n",
              "    .dataframe thead th {\n",
              "        text-align: right;\n",
              "    }\n",
              "</style>\n",
              "<table border=\"1\" class=\"dataframe\">\n",
              "  <thead>\n",
              "    <tr style=\"text-align: right;\">\n",
              "      <th></th>\n",
              "      <th>movies_created</th>\n",
              "    </tr>\n",
              "  </thead>\n",
              "  <tbody>\n",
              "    <tr>\n",
              "      <th>0</th>\n",
              "      <td>20</td>\n",
              "    </tr>\n",
              "  </tbody>\n",
              "</table>\n",
              "</div>"
            ],
            "text/plain": [
              "   movies_created\n",
              "0              20"
            ]
          },
          "execution_count": 10,
          "metadata": {},
          "output_type": "execute_result"
        }
      ],
      "source": [
        "# Create movies nodes\n",
        "gds.run_cypher('create constraint if not exists for (n:Movie) require (n.id) is node key')\n",
        "create_customer_res = gds.run_cypher('''\n",
        "    unwind $data as row\n",
        "    merge (n:Movie{id: row.MovieID})\n",
        "    set n.Title = row.Title\n",
        "    set n.Genres =  row.Genres \n",
        "    return count(*) as movies_created\n",
        "''', params = {'data': movies.to_dict('records')})\n",
        "create_customer_res.head()"
      ]
    },
    {
      "cell_type": "markdown",
      "metadata": {
        "id": "-0odtVSzj4ok"
      },
      "source": [
        "Ratings data frame is quite large dataframe, hence we split it in chunks and then upload one chunk at a time."
      ]
    },
    {
      "cell_type": "code",
      "execution_count": 11,
      "metadata": {
        "colab": {
          "base_uri": "https://localhost:8080/",
          "height": 428
        },
        "id": "bY8UvEa2zJy7",
        "outputId": "8ba4e431-a066-4760-981a-24990942d0c6"
      },
      "outputs": [
        {
          "name": "stdout",
          "output_type": "stream",
          "text": [
            "10\n",
            "20\n",
            "30\n",
            "40\n",
            "50\n",
            "60\n",
            "70\n"
          ]
        }
      ],
      "source": [
        "i = 1\n",
        "for chunk in np.array_split(ratings, 200):\n",
        "    if i % 10 == 0:\n",
        "        print(i)\n",
        "    create_rated = gds.run_cypher('''\n",
        "        UNWIND $data as row\n",
        "        MATCH (u:User {id: row.UserID}), (m:Movie {id: row.MovieID})\n",
        "        MERGE (u)-[r:RATED]->(m)\n",
        "        SET r.Rating = row.Rating\n",
        "        RETURN count(*) as create_rated\n",
        "    ''', params={'data': chunk.to_dict('records')})\n",
        "    i = i + 1\n",
        "create_rated.head()\n"
      ]
    },
    {
      "cell_type": "code",
      "execution_count": null,
      "metadata": {},
      "outputs": [
        {
          "name": "stdout",
          "output_type": "stream",
          "text": [
            "Requirement already satisfied: apoc in c:\\users\\user\\anaconda3\\lib\\site-packages (0.12.0)Note: you may need to restart the kernel to use updated packages.\n",
            "\n",
            "Requirement already satisfied: numpy>=1.21 in c:\\users\\user\\anaconda3\\lib\\site-packages (from apoc) (1.24.3)\n",
            "Requirement already satisfied: scikit-learn>=0.24.2 in c:\\users\\user\\anaconda3\\lib\\site-packages (from apoc) (1.3.0)\n",
            "Requirement already satisfied: pyclesperanto-prototype>=0.21.1 in c:\\users\\user\\anaconda3\\lib\\site-packages (from apoc) (0.24.1)\n",
            "Requirement already satisfied: pandas in c:\\users\\user\\anaconda3\\lib\\site-packages (from apoc) (1.5.3)\n",
            "Requirement already satisfied: pyopencl in c:\\users\\user\\anaconda3\\lib\\site-packages (from pyclesperanto-prototype>=0.21.1->apoc) (2023.1.4)\n",
            "Requirement already satisfied: toolz in c:\\users\\user\\anaconda3\\lib\\site-packages (from pyclesperanto-prototype>=0.21.1->apoc) (0.12.0)\n",
            "Requirement already satisfied: scikit-image!=0.20.0,>=0.18.0 in c:\\users\\user\\anaconda3\\lib\\site-packages (from pyclesperanto-prototype>=0.21.1->apoc) (0.22.0)\n",
            "Requirement already satisfied: matplotlib in c:\\users\\user\\anaconda3\\lib\\site-packages (from pyclesperanto-prototype>=0.21.1->apoc) (3.7.1)\n",
            "Requirement already satisfied: transforms3d in c:\\users\\user\\anaconda3\\lib\\site-packages (from pyclesperanto-prototype>=0.21.1->apoc) (0.4.1)\n",
            "Requirement already satisfied: scipy>=1.5.0 in c:\\users\\user\\anaconda3\\lib\\site-packages (from scikit-learn>=0.24.2->apoc) (1.10.1)\n",
            "Requirement already satisfied: joblib>=1.1.1 in c:\\users\\user\\anaconda3\\lib\\site-packages (from scikit-learn>=0.24.2->apoc) (1.2.0)\n",
            "Requirement already satisfied: threadpoolctl>=2.0.0 in c:\\users\\user\\anaconda3\\lib\\site-packages (from scikit-learn>=0.24.2->apoc) (2.2.0)\n",
            "Requirement already satisfied: python-dateutil>=2.8.1 in c:\\users\\user\\anaconda3\\lib\\site-packages (from pandas->apoc) (2.8.2)\n",
            "Requirement already satisfied: pytz>=2020.1 in c:\\users\\user\\anaconda3\\lib\\site-packages (from pandas->apoc) (2022.7)\n",
            "Requirement already satisfied: six>=1.5 in c:\\users\\user\\anaconda3\\lib\\site-packages (from python-dateutil>=2.8.1->pandas->apoc) (1.16.0)\n",
            "Requirement already satisfied: networkx>=2.8 in c:\\users\\user\\anaconda3\\lib\\site-packages (from scikit-image!=0.20.0,>=0.18.0->pyclesperanto-prototype>=0.21.1->apoc) (3.1)\n",
            "Requirement already satisfied: pillow>=9.0.1 in c:\\users\\user\\anaconda3\\lib\\site-packages (from scikit-image!=0.20.0,>=0.18.0->pyclesperanto-prototype>=0.21.1->apoc) (9.4.0)\n",
            "Requirement already satisfied: imageio>=2.27 in c:\\users\\user\\anaconda3\\lib\\site-packages (from scikit-image!=0.20.0,>=0.18.0->pyclesperanto-prototype>=0.21.1->apoc) (2.33.1)\n",
            "Requirement already satisfied: tifffile>=2022.8.12 in c:\\users\\user\\anaconda3\\lib\\site-packages (from scikit-image!=0.20.0,>=0.18.0->pyclesperanto-prototype>=0.21.1->apoc) (2023.12.9)\n",
            "Requirement already satisfied: packaging>=21 in c:\\users\\user\\anaconda3\\lib\\site-packages (from scikit-image!=0.20.0,>=0.18.0->pyclesperanto-prototype>=0.21.1->apoc) (23.0)\n",
            "Requirement already satisfied: lazy_loader>=0.3 in c:\\users\\user\\anaconda3\\lib\\site-packages (from scikit-image!=0.20.0,>=0.18.0->pyclesperanto-prototype>=0.21.1->apoc) (0.3)\n",
            "Requirement already satisfied: contourpy>=1.0.1 in c:\\users\\user\\anaconda3\\lib\\site-packages (from matplotlib->pyclesperanto-prototype>=0.21.1->apoc) (1.0.5)\n",
            "Requirement already satisfied: cycler>=0.10 in c:\\users\\user\\anaconda3\\lib\\site-packages (from matplotlib->pyclesperanto-prototype>=0.21.1->apoc) (0.11.0)\n",
            "Requirement already satisfied: fonttools>=4.22.0 in c:\\users\\user\\anaconda3\\lib\\site-packages (from matplotlib->pyclesperanto-prototype>=0.21.1->apoc) (4.25.0)\n",
            "Requirement already satisfied: kiwisolver>=1.0.1 in c:\\users\\user\\anaconda3\\lib\\site-packages (from matplotlib->pyclesperanto-prototype>=0.21.1->apoc) (1.4.4)\n",
            "Requirement already satisfied: pyparsing>=2.3.1 in c:\\users\\user\\anaconda3\\lib\\site-packages (from matplotlib->pyclesperanto-prototype>=0.21.1->apoc) (3.0.9)\n",
            "Requirement already satisfied: pytools>=2021.2.7 in c:\\users\\user\\anaconda3\\lib\\site-packages (from pyopencl->pyclesperanto-prototype>=0.21.1->apoc) (2023.1.1)\n",
            "Requirement already satisfied: platformdirs>=2.2.0 in c:\\users\\user\\anaconda3\\lib\\site-packages (from pyopencl->pyclesperanto-prototype>=0.21.1->apoc) (2.5.2)\n"
          ]
        }
      ],
      "source": [
        "pip install apoc"
      ]
    },
    {
      "cell_type": "code",
      "execution_count": null,
      "metadata": {},
      "outputs": [],
      "source": [
        "import apoc"
      ]
    },
    {
      "cell_type": "code",
      "execution_count": null,
      "metadata": {},
      "outputs": [
        {
          "name": "stdout",
          "output_type": "stream",
          "text": [
            "{'User': {'count': 24, 'labels': [], 'properties': {'id': {'unique': False, 'indexed': True, 'type': 'INTEGER', 'existence': False}, 'Age': {'unique': False, 'indexed': False, 'type': 'INTEGER', 'existence': False}, 'Gender': {'unique': False, 'indexed': False, 'type': 'STRING', 'existence': False}}, 'type': 'node', 'relationships': {'RATED': {'count': 0, 'direction': 'out', 'labels': ['Movie'], 'properties': {'Rating': {'indexed': False, 'type': 'INTEGER', 'existence': False, 'array': False}}}, 'SIMILAR': {'count': 7, 'direction': 'out', 'labels': ['User', 'User'], 'properties': {'Similarity': {'indexed': False, 'type': 'FLOAT', 'existence': False, 'array': False}}}}}, 'RATED': {'count': 18, 'properties': {'Rating': {'indexed': False, 'type': 'INTEGER', 'existence': False, 'array': False}}, 'type': 'relationship'}, 'ON_CONTINENT': {'count': 8668, 'properties': {}, 'type': 'relationship'}, 'IN_REGION': {'count': 6955, 'properties': {}, 'type': 'relationship'}, 'HAS_ROUTE': {'count': 46389, 'properties': {'distance': {'indexed': False, 'type': 'INTEGER', 'existence': False, 'array': False}}, 'type': 'relationship'}, 'Country': {'count': 232, 'labels': [], 'properties': {'code': {'unique': True, 'indexed': True, 'type': 'STRING', 'existence': False}}, 'type': 'node', 'relationships': {'ON_CONTINENT': {'count': 0, 'direction': 'out', 'labels': ['Continent'], 'properties': {}}, 'IN_COUNTRY': {'count': 1167, 'direction': 'in', 'labels': ['Airport', 'City', 'Region'], 'properties': {}}}}, 'City': {'count': 3359, 'labels': [], 'properties': {'name': {'unique': True, 'indexed': True, 'type': 'STRING', 'existence': False}}, 'type': 'node', 'relationships': {'ON_CONTINENT': {'count': 0, 'direction': 'out', 'labels': ['Continent'], 'properties': {}}, 'IN_REGION': {'count': 0, 'direction': 'out', 'labels': ['Region'], 'properties': {}}, 'IN_COUNTRY': {'count': 0, 'direction': 'out', 'labels': ['Country'], 'properties': {}}, 'IN_CITY': {'count': 1167, 'direction': 'in', 'labels': ['Airport'], 'properties': {}}}}, 'Region': {'count': 1527, 'labels': [], 'properties': {'name': {'unique': True, 'indexed': True, 'type': 'STRING', 'existence': False}}, 'type': 'node', 'relationships': {'ON_CONTINENT': {'count': 0, 'direction': 'out', 'labels': ['Continent'], 'properties': {}}, 'IN_REGION': {'count': 1167, 'direction': 'in', 'labels': ['Airport', 'City'], 'properties': {}}, 'IN_COUNTRY': {'count': 0, 'direction': 'out', 'labels': ['Country'], 'properties': {}}}}, 'Airport': {'count': 3503, 'labels': [], 'properties': {'id': {'unique': False, 'indexed': False, 'type': 'STRING', 'existence': False}, 'iata': {'unique': True, 'indexed': True, 'type': 'STRING', 'existence': False}, 'pagerank': {'unique': False, 'indexed': False, 'type': 'FLOAT', 'existence': False}, 'location': {'unique': False, 'indexed': True, 'type': 'POINT', 'existence': False}, 'runways': {'unique': False, 'indexed': False, 'type': 'INTEGER', 'existence': False}, 'altitude': {'unique': False, 'indexed': False, 'type': 'INTEGER', 'existence': False}, 'icao': {'unique': False, 'indexed': False, 'type': 'STRING', 'existence': False}, 'descr': {'unique': False, 'indexed': False, 'type': 'STRING', 'existence': False}, 'longest': {'unique': False, 'indexed': False, 'type': 'INTEGER', 'existence': False}, 'city': {'unique': False, 'indexed': False, 'type': 'STRING', 'existence': False}}, 'type': 'node', 'relationships': {'ON_CONTINENT': {'count': 0, 'direction': 'out', 'labels': ['Continent'], 'properties': {}}, 'HAS_ROUTE': {'count': 13931, 'direction': 'out', 'labels': ['Airport', 'Airport'], 'properties': {'distance': {'indexed': False, 'type': 'INTEGER', 'existence': False, 'array': False}}}, 'IN_REGION': {'count': 0, 'direction': 'out', 'labels': ['Region'], 'properties': {}}, 'IN_COUNTRY': {'count': 0, 'direction': 'out', 'labels': ['Country'], 'properties': {}}, 'IN_CITY': {'count': 0, 'direction': 'out', 'labels': ['City'], 'properties': {}}}}, 'Movie': {'count': 20, 'labels': [], 'properties': {'id': {'unique': False, 'indexed': True, 'type': 'INTEGER', 'existence': False}, 'Genres': {'unique': False, 'indexed': False, 'type': 'STRING', 'existence': False}, 'Title': {'unique': False, 'indexed': False, 'type': 'STRING', 'existence': False}}, 'type': 'node', 'relationships': {'RATED': {'count': 18, 'direction': 'in', 'labels': ['User'], 'properties': {'Rating': {'indexed': False, 'type': 'INTEGER', 'existence': False, 'array': False}}}}}, 'Continent': {'count': 6, 'labels': [], 'properties': {'name': {'unique': False, 'indexed': False, 'type': 'STRING', 'existence': False}}, 'type': 'node', 'relationships': {'ON_CONTINENT': {'count': 1167, 'direction': 'in', 'labels': ['Airport', 'City', 'Region', 'Country'], 'properties': {}}}}, 'IN_COUNTRY': {'count': 8439, 'properties': {}, 'type': 'relationship'}, 'SIMILAR': {'count': 13, 'properties': {'Similarity': {'indexed': False, 'type': 'FLOAT', 'existence': False, 'array': False}}, 'type': 'relationship'}, 'IN_CITY': {'count': 3503, 'properties': {}, 'type': 'relationship'}}\n"
          ]
        }
      ],
      "source": [
        "from neo4j import GraphDatabase\n",
        "\n",
        "uri = \"bolt://3.238.155.148:7687\"\n",
        "username = \"neo4j\"\n",
        "password = \"growth-laboratory-party\"\n",
        "\n",
        "with GraphDatabase.driver(uri, auth=(username, password)) as driver:\n",
        "    with driver.session() as session:\n",
        "        result = session.run(\"CALL apoc.meta.schema() YIELD value\")\n",
        "        for record in result:\n",
        "            print(record[\"value\"])\n"
      ]
    },
    {
      "cell_type": "markdown",
      "metadata": {
        "id": "kpSQmPb6valJ"
      },
      "source": [
        "* To get schema use\n",
        "```\n",
        "  CALL apoc.meta.schema()\n",
        "```\n",
        "* To visualize schem use\n",
        "```\n",
        "  CALL db.schema.visualization()\n",
        "```\n",
        "![image.png](data:image/png;base64,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)\n"
      ]
    },
    {
      "cell_type": "markdown",
      "metadata": {
        "id": "ubAh2C5ZkNrr"
      },
      "source": [
        "## Recommendations\n",
        "\n",
        "### Recomendation of similar movie\n",
        "A simple way to find similar movies for a specific movie is to count how many paths of the form  \n",
        "$(movie_1)-[]\\rightarrow(user)-[]\\rightarrow(movie_2)$  \n",
        "there are,   \n",
        "where $movie_1$ is the movie we want to find similar movies for.  \n",
        "We order $movie_2$ based on the number of paths that connect the two movies. The idea is that similar movies would recieve excellent rating by the same user.\n"
      ]
    },
    {
      "cell_type": "code",
      "execution_count": null,
      "metadata": {
        "colab": {
          "base_uri": "https://localhost:8080/",
          "height": 206
        },
        "id": "p1eRHrbFvnO2",
        "outputId": "d1b0f3a2-4f2a-43bd-a58f-b6c523f37650"
      },
      "outputs": [
        {
          "data": {
            "text/html": [
              "<div>\n",
              "<style scoped>\n",
              "    .dataframe tbody tr th:only-of-type {\n",
              "        vertical-align: middle;\n",
              "    }\n",
              "\n",
              "    .dataframe tbody tr th {\n",
              "        vertical-align: top;\n",
              "    }\n",
              "\n",
              "    .dataframe thead th {\n",
              "        text-align: right;\n",
              "    }\n",
              "</style>\n",
              "<table border=\"1\" class=\"dataframe\">\n",
              "  <thead>\n",
              "    <tr style=\"text-align: right;\">\n",
              "      <th></th>\n",
              "      <th>m2.Title</th>\n",
              "      <th>m2.Genres</th>\n",
              "      <th>common_users</th>\n",
              "    </tr>\n",
              "  </thead>\n",
              "  <tbody>\n",
              "    <tr>\n",
              "      <th>0</th>\n",
              "      <td>Jumanji (1995)</td>\n",
              "      <td>Adventure|Children's|Fantasy</td>\n",
              "      <td>2</td>\n",
              "    </tr>\n",
              "    <tr>\n",
              "      <th>1</th>\n",
              "      <td>A League of Their Own (1992)</td>\n",
              "      <td>Action|Adventure|Thriller</td>\n",
              "      <td>1</td>\n",
              "    </tr>\n",
              "    <tr>\n",
              "      <th>2</th>\n",
              "      <td>Apollo 13 (1995)</td>\n",
              "      <td>Action|Adventure|Thriller</td>\n",
              "      <td>1</td>\n",
              "    </tr>\n",
              "  </tbody>\n",
              "</table>\n",
              "</div>"
            ],
            "text/plain": [
              "                       m2.Title                     m2.Genres  common_users\n",
              "0                Jumanji (1995)  Adventure|Children's|Fantasy             2\n",
              "1  A League of Their Own (1992)     Action|Adventure|Thriller             1\n",
              "2              Apollo 13 (1995)     Action|Adventure|Thriller             1"
            ]
          },
          "execution_count": 72,
          "metadata": {},
          "output_type": "execute_result"
        }
      ],
      "source": [
        "# Check similar movies\n",
        "similar_movies = gds.run_cypher('''\n",
        "    MATCH(m1:Movie)-[r1]-(u:User)-[r2]-(m2:Movie)\n",
        "    WHERE m1.Title CONTAINS 'Toy Story (1995)'\n",
        "      AND m2.Title<>'Toy Story (1995)'\n",
        "      AND r1.Rating=5 AND r2.Rating=5\n",
        "    RETURN m2.Title,m2.Genres,count(DISTINCT(u)) as common_users\n",
        "    ORDER BY common_users DESC\n",
        "''')\n",
        "similar_movies.head()"
      ]
    },
    {
      "cell_type": "markdown",
      "metadata": {
        "id": "OhUpps6cordZ"
      },
      "source": [
        "And a parametric query"
      ]
    },
    {
      "cell_type": "code",
      "execution_count": null,
      "metadata": {
        "colab": {
          "base_uri": "https://localhost:8080/",
          "height": 206
        },
        "id": "-mtmVofCy2JN",
        "outputId": "e250356a-c581-4bc0-a086-84e142de5ad1"
      },
      "outputs": [
        {
          "data": {
            "text/html": [
              "<div>\n",
              "<style scoped>\n",
              "    .dataframe tbody tr th:only-of-type {\n",
              "        vertical-align: middle;\n",
              "    }\n",
              "\n",
              "    .dataframe tbody tr th {\n",
              "        vertical-align: top;\n",
              "    }\n",
              "\n",
              "    .dataframe thead th {\n",
              "        text-align: right;\n",
              "    }\n",
              "</style>\n",
              "<table border=\"1\" class=\"dataframe\">\n",
              "  <thead>\n",
              "    <tr style=\"text-align: right;\">\n",
              "      <th></th>\n",
              "      <th>m2.Title</th>\n",
              "      <th>m2.Genres</th>\n",
              "      <th>common_users</th>\n",
              "    </tr>\n",
              "  </thead>\n",
              "  <tbody>\n",
              "    <tr>\n",
              "      <th>0</th>\n",
              "      <td>Toy Story (1995)</td>\n",
              "      <td>Animation|Children's|Comedy</td>\n",
              "      <td>2</td>\n",
              "    </tr>\n",
              "    <tr>\n",
              "      <th>1</th>\n",
              "      <td>A League of Their Own (1992)</td>\n",
              "      <td>Action|Adventure|Thriller</td>\n",
              "      <td>1</td>\n",
              "    </tr>\n",
              "    <tr>\n",
              "      <th>2</th>\n",
              "      <td>Apollo 13 (1995)</td>\n",
              "      <td>Action|Adventure|Thriller</td>\n",
              "      <td>1</td>\n",
              "    </tr>\n",
              "  </tbody>\n",
              "</table>\n",
              "</div>"
            ],
            "text/plain": [
              "                       m2.Title                    m2.Genres  common_users\n",
              "0              Toy Story (1995)  Animation|Children's|Comedy             2\n",
              "1  A League of Their Own (1992)    Action|Adventure|Thriller             1\n",
              "2              Apollo 13 (1995)    Action|Adventure|Thriller             1"
            ]
          },
          "execution_count": 73,
          "metadata": {},
          "output_type": "execute_result"
        }
      ],
      "source": [
        "# Check similar movies\n",
        "similar_movies = gds.run_cypher('''\n",
        "    MATCH(m1:Movie)-[r1]-(u:User)-[r2]-(m2:Movie)\n",
        "    WHERE m1.Title CONTAINS $title\n",
        "        AND m2.Title<>$title\n",
        "        AND r1.Rating=5 AND r2.Rating=5\n",
        "    RETURN m2.Title,m2.Genres,count(DISTINCT(u)) as common_users\n",
        "    ORDER BY common_users DESC\n",
        "''',params = {'title':'Jumanji (1995)'})\n",
        "similar_movies.head()"
      ]
    },
    {
      "cell_type": "code",
      "execution_count": null,
      "metadata": {
        "colab": {
          "base_uri": "https://localhost:8080/",
          "height": 1617
        },
        "id": "2vkv08pEzOaA",
        "outputId": "347c9e64-b853-4c2e-8444-6b5e1f3f7ef3"
      },
      "outputs": [
        {
          "data": {
            "text/html": [
              "<div>\n",
              "<style scoped>\n",
              "    .dataframe tbody tr th:only-of-type {\n",
              "        vertical-align: middle;\n",
              "    }\n",
              "\n",
              "    .dataframe tbody tr th {\n",
              "        vertical-align: top;\n",
              "    }\n",
              "\n",
              "    .dataframe thead th {\n",
              "        text-align: right;\n",
              "    }\n",
              "</style>\n",
              "<table border=\"1\" class=\"dataframe\">\n",
              "  <thead>\n",
              "    <tr style=\"text-align: right;\">\n",
              "      <th></th>\n",
              "      <th>m2.Title</th>\n",
              "      <th>m2.Genres</th>\n",
              "      <th>common_users</th>\n",
              "    </tr>\n",
              "  </thead>\n",
              "  <tbody>\n",
              "    <tr>\n",
              "      <th>0</th>\n",
              "      <td>Toy Story (1995)</td>\n",
              "      <td>Animation|Children's|Comedy</td>\n",
              "      <td>2</td>\n",
              "    </tr>\n",
              "    <tr>\n",
              "      <th>1</th>\n",
              "      <td>A League of Their Own (1992)</td>\n",
              "      <td>Action|Adventure|Thriller</td>\n",
              "      <td>1</td>\n",
              "    </tr>\n",
              "    <tr>\n",
              "      <th>2</th>\n",
              "      <td>Apollo 13 (1995)</td>\n",
              "      <td>Action|Adventure|Thriller</td>\n",
              "      <td>1</td>\n",
              "    </tr>\n",
              "  </tbody>\n",
              "</table>\n",
              "</div>"
            ],
            "text/plain": [
              "                       m2.Title                    m2.Genres  common_users\n",
              "0              Toy Story (1995)  Animation|Children's|Comedy             2\n",
              "1  A League of Their Own (1992)    Action|Adventure|Thriller             1\n",
              "2              Apollo 13 (1995)    Action|Adventure|Thriller             1"
            ]
          },
          "execution_count": 74,
          "metadata": {},
          "output_type": "execute_result"
        }
      ],
      "source": [
        "similar_movies.head(50)"
      ]
    },
    {
      "cell_type": "markdown",
      "metadata": {
        "id": "4rKqyBWioxd5"
      },
      "source": [
        "### User based recommendation\n",
        "Next, we create recommendations for a user.   \n",
        "This is done by first calculationg a similarity measure/score between users. For this we use Jaccard similarity. The whole process is done in Neo4j DB.\n",
        "- First by creating a projection\n",
        "- Then by calculating the actual Jaccard similarity"
      ]
    },
    {
      "cell_type": "code",
      "execution_count": null,
      "metadata": {},
      "outputs": [],
      "source": [
        "from neo4j import GraphDatabase\n",
        "\n",
        "uri = \"bolt://3.238.155.148:7687\"\n",
        "username = \"neo4j\"\n",
        "password = \"growth-laboratory-party\"\n",
        "\n",
        "with GraphDatabase.driver(uri, auth=(username, password)) as driver:\n",
        "    with driver.session() as session:\n",
        "        session.run(\"CALL gds.graph.drop('ProjectttNeo4jGraph');\")"
      ]
    },
    {
      "cell_type": "code",
      "execution_count": null,
      "metadata": {
        "colab": {
          "base_uri": "https://localhost:8080/",
          "height": 81
        },
        "id": "6KZ84KsRzh3r",
        "outputId": "50e44f9c-c882-413d-df42-22bc42174d55"
      },
      "outputs": [
        {
          "data": {
            "text/html": [
              "<div>\n",
              "<style scoped>\n",
              "    .dataframe tbody tr th:only-of-type {\n",
              "        vertical-align: middle;\n",
              "    }\n",
              "\n",
              "    .dataframe tbody tr th {\n",
              "        vertical-align: top;\n",
              "    }\n",
              "\n",
              "    .dataframe thead th {\n",
              "        text-align: right;\n",
              "    }\n",
              "</style>\n",
              "<table border=\"1\" class=\"dataframe\">\n",
              "  <thead>\n",
              "    <tr style=\"text-align: right;\">\n",
              "      <th></th>\n",
              "      <th>nodeProjection</th>\n",
              "      <th>relationshipProjection</th>\n",
              "      <th>graphName</th>\n",
              "      <th>nodeCount</th>\n",
              "      <th>relationshipCount</th>\n",
              "      <th>projectMillis</th>\n",
              "    </tr>\n",
              "  </thead>\n",
              "  <tbody>\n",
              "    <tr>\n",
              "      <th>0</th>\n",
              "      <td>{'User': {'label': 'User', 'properties': {}}, ...</td>\n",
              "      <td>{'RATED': {'aggregation': 'DEFAULT', 'orientat...</td>\n",
              "      <td>ProjectttNeo4jGraph</td>\n",
              "      <td>44</td>\n",
              "      <td>18</td>\n",
              "      <td>13</td>\n",
              "    </tr>\n",
              "  </tbody>\n",
              "</table>\n",
              "</div>"
            ],
            "text/plain": [
              "                                      nodeProjection  \\\n",
              "0  {'User': {'label': 'User', 'properties': {}}, ...   \n",
              "\n",
              "                              relationshipProjection            graphName  \\\n",
              "0  {'RATED': {'aggregation': 'DEFAULT', 'orientat...  ProjectttNeo4jGraph   \n",
              "\n",
              "   nodeCount  relationshipCount  projectMillis  \n",
              "0         44                 18             13  "
            ]
          },
          "execution_count": 76,
          "metadata": {},
          "output_type": "execute_result"
        }
      ],
      "source": [
        "# Create projection\n",
        "create_projection = gds.run_cypher('''\n",
        "   CALL gds.graph.project(\n",
        "    'ProjectttNeo4jGraph',\n",
        "    ['User', 'Movie'],\n",
        "    {\n",
        "        RATED: {properties:  'Rating'}\n",
        "            } \n",
        ");\n",
        "''')\n",
        "create_projection.head()"
      ]
    },
    {
      "cell_type": "code",
      "execution_count": null,
      "metadata": {},
      "outputs": [
        {
          "data": {
            "text/html": [
              "<div>\n",
              "<style scoped>\n",
              "    .dataframe tbody tr th:only-of-type {\n",
              "        vertical-align: middle;\n",
              "    }\n",
              "\n",
              "    .dataframe tbody tr th {\n",
              "        vertical-align: top;\n",
              "    }\n",
              "\n",
              "    .dataframe thead th {\n",
              "        text-align: right;\n",
              "    }\n",
              "</style>\n",
              "<table border=\"1\" class=\"dataframe\">\n",
              "  <thead>\n",
              "    <tr style=\"text-align: right;\">\n",
              "      <th></th>\n",
              "      <th>nodeProjection</th>\n",
              "      <th>relationshipProjection</th>\n",
              "      <th>graphName</th>\n",
              "      <th>nodeCount</th>\n",
              "      <th>relationshipCount</th>\n",
              "      <th>projectMillis</th>\n",
              "    </tr>\n",
              "  </thead>\n",
              "  <tbody>\n",
              "    <tr>\n",
              "      <th>0</th>\n",
              "      <td>{'User': {'label': 'User', 'properties': {}}, ...</td>\n",
              "      <td>{'RATED': {'aggregation': 'DEFAULT', 'orientat...</td>\n",
              "      <td>ProjectttNeo4jGraph</td>\n",
              "      <td>44</td>\n",
              "      <td>18</td>\n",
              "      <td>19</td>\n",
              "    </tr>\n",
              "  </tbody>\n",
              "</table>\n",
              "</div>"
            ],
            "text/plain": [
              "                                      nodeProjection  \\\n",
              "0  {'User': {'label': 'User', 'properties': {}}, ...   \n",
              "\n",
              "                              relationshipProjection            graphName  \\\n",
              "0  {'RATED': {'aggregation': 'DEFAULT', 'orientat...  ProjectttNeo4jGraph   \n",
              "\n",
              "   nodeCount  relationshipCount  projectMillis  \n",
              "0         44                 18             19  "
            ]
          },
          "execution_count": 77,
          "metadata": {},
          "output_type": "execute_result"
        }
      ],
      "source": [
        "from neo4j import GraphDatabase\n",
        "\n",
        "uri = \"bolt://3.238.155.148:7687\"\n",
        "username = \"neo4j\"\n",
        "password = \"growth-laboratory-party\"\n",
        "\n",
        "with GraphDatabase.driver(uri, auth=(username, password)) as driver:\n",
        "    with driver.session() as session:\n",
        "        session.run(\"CALL gds.graph.drop('ProjectttNeo4jGraph');\")  # Drop existing graph\n",
        "\n",
        "# Create projection\n",
        "create_projection = gds.run_cypher('''\n",
        "    CALL gds.graph.project(\n",
        "        'ProjectttNeo4jGraph',\n",
        "        ['User', 'Movie'],\n",
        "        {\n",
        "            RATED: {properties: 'Rating'}\n",
        "        } \n",
        "    );\n",
        "''')\n",
        "create_projection.head()\n"
      ]
    },
    {
      "cell_type": "markdown",
      "metadata": {
        "id": "eLd-fTPuAfCE"
      },
      "source": [
        "* To delete 'myGraph' use  \n",
        "    ```\n",
        "    CALL gds.graph.drop('myGraph')\n",
        "    ````\n",
        "* To list graph projections use  \n",
        "    ```\n",
        "    CALL gds.graph.list()\n",
        "    YIELD graphName, nodeCount, relationshipCount\n",
        "    RETURN graphName, nodeCount, relationshipCount\n",
        "    ORDER BY graphName ASC\n",
        "    ```"
      ]
    },
    {
      "cell_type": "code",
      "execution_count": null,
      "metadata": {},
      "outputs": [
        {
          "data": {
            "text/html": [
              "<div>\n",
              "<style scoped>\n",
              "    .dataframe tbody tr th:only-of-type {\n",
              "        vertical-align: middle;\n",
              "    }\n",
              "\n",
              "    .dataframe tbody tr th {\n",
              "        vertical-align: top;\n",
              "    }\n",
              "\n",
              "    .dataframe thead th {\n",
              "        text-align: right;\n",
              "    }\n",
              "</style>\n",
              "<table border=\"1\" class=\"dataframe\">\n",
              "  <thead>\n",
              "    <tr style=\"text-align: right;\">\n",
              "      <th></th>\n",
              "      <th>UserID1</th>\n",
              "      <th>UserID2</th>\n",
              "      <th>similarity</th>\n",
              "    </tr>\n",
              "  </thead>\n",
              "  <tbody>\n",
              "    <tr>\n",
              "      <th>0</th>\n",
              "      <td>1</td>\n",
              "      <td>9</td>\n",
              "      <td>0.500000</td>\n",
              "    </tr>\n",
              "    <tr>\n",
              "      <th>1</th>\n",
              "      <td>2</td>\n",
              "      <td>5</td>\n",
              "      <td>0.500000</td>\n",
              "    </tr>\n",
              "    <tr>\n",
              "      <th>2</th>\n",
              "      <td>4</td>\n",
              "      <td>5</td>\n",
              "      <td>0.500000</td>\n",
              "    </tr>\n",
              "    <tr>\n",
              "      <th>3</th>\n",
              "      <td>5</td>\n",
              "      <td>2</td>\n",
              "      <td>0.500000</td>\n",
              "    </tr>\n",
              "    <tr>\n",
              "      <th>4</th>\n",
              "      <td>5</td>\n",
              "      <td>4</td>\n",
              "      <td>0.500000</td>\n",
              "    </tr>\n",
              "    <tr>\n",
              "      <th>5</th>\n",
              "      <td>9</td>\n",
              "      <td>1</td>\n",
              "      <td>0.500000</td>\n",
              "    </tr>\n",
              "    <tr>\n",
              "      <th>6</th>\n",
              "      <td>1</td>\n",
              "      <td>2</td>\n",
              "      <td>0.333333</td>\n",
              "    </tr>\n",
              "    <tr>\n",
              "      <th>7</th>\n",
              "      <td>2</td>\n",
              "      <td>1</td>\n",
              "      <td>0.333333</td>\n",
              "    </tr>\n",
              "    <tr>\n",
              "      <th>8</th>\n",
              "      <td>3</td>\n",
              "      <td>4</td>\n",
              "      <td>0.333333</td>\n",
              "    </tr>\n",
              "    <tr>\n",
              "      <th>9</th>\n",
              "      <td>4</td>\n",
              "      <td>3</td>\n",
              "      <td>0.333333</td>\n",
              "    </tr>\n",
              "    <tr>\n",
              "      <th>10</th>\n",
              "      <td>1</td>\n",
              "      <td>4</td>\n",
              "      <td>0.250000</td>\n",
              "    </tr>\n",
              "    <tr>\n",
              "      <th>11</th>\n",
              "      <td>1</td>\n",
              "      <td>8</td>\n",
              "      <td>0.250000</td>\n",
              "    </tr>\n",
              "    <tr>\n",
              "      <th>12</th>\n",
              "      <td>2</td>\n",
              "      <td>4</td>\n",
              "      <td>0.250000</td>\n",
              "    </tr>\n",
              "    <tr>\n",
              "      <th>13</th>\n",
              "      <td>3</td>\n",
              "      <td>5</td>\n",
              "      <td>0.250000</td>\n",
              "    </tr>\n",
              "    <tr>\n",
              "      <th>14</th>\n",
              "      <td>4</td>\n",
              "      <td>1</td>\n",
              "      <td>0.250000</td>\n",
              "    </tr>\n",
              "    <tr>\n",
              "      <th>15</th>\n",
              "      <td>4</td>\n",
              "      <td>2</td>\n",
              "      <td>0.250000</td>\n",
              "    </tr>\n",
              "    <tr>\n",
              "      <th>16</th>\n",
              "      <td>5</td>\n",
              "      <td>3</td>\n",
              "      <td>0.250000</td>\n",
              "    </tr>\n",
              "    <tr>\n",
              "      <th>17</th>\n",
              "      <td>8</td>\n",
              "      <td>1</td>\n",
              "      <td>0.250000</td>\n",
              "    </tr>\n",
              "    <tr>\n",
              "      <th>18</th>\n",
              "      <td>1</td>\n",
              "      <td>5</td>\n",
              "      <td>0.200000</td>\n",
              "    </tr>\n",
              "    <tr>\n",
              "      <th>19</th>\n",
              "      <td>2</td>\n",
              "      <td>9</td>\n",
              "      <td>0.200000</td>\n",
              "    </tr>\n",
              "    <tr>\n",
              "      <th>20</th>\n",
              "      <td>5</td>\n",
              "      <td>1</td>\n",
              "      <td>0.200000</td>\n",
              "    </tr>\n",
              "    <tr>\n",
              "      <th>21</th>\n",
              "      <td>9</td>\n",
              "      <td>2</td>\n",
              "      <td>0.200000</td>\n",
              "    </tr>\n",
              "    <tr>\n",
              "      <th>22</th>\n",
              "      <td>1</td>\n",
              "      <td>3</td>\n",
              "      <td>0.166667</td>\n",
              "    </tr>\n",
              "    <tr>\n",
              "      <th>23</th>\n",
              "      <td>2</td>\n",
              "      <td>3</td>\n",
              "      <td>0.166667</td>\n",
              "    </tr>\n",
              "    <tr>\n",
              "      <th>24</th>\n",
              "      <td>3</td>\n",
              "      <td>1</td>\n",
              "      <td>0.166667</td>\n",
              "    </tr>\n",
              "    <tr>\n",
              "      <th>25</th>\n",
              "      <td>3</td>\n",
              "      <td>2</td>\n",
              "      <td>0.166667</td>\n",
              "    </tr>\n",
              "  </tbody>\n",
              "</table>\n",
              "</div>"
            ],
            "text/plain": [
              "    UserID1  UserID2  similarity\n",
              "0         1        9    0.500000\n",
              "1         2        5    0.500000\n",
              "2         4        5    0.500000\n",
              "3         5        2    0.500000\n",
              "4         5        4    0.500000\n",
              "5         9        1    0.500000\n",
              "6         1        2    0.333333\n",
              "7         2        1    0.333333\n",
              "8         3        4    0.333333\n",
              "9         4        3    0.333333\n",
              "10        1        4    0.250000\n",
              "11        1        8    0.250000\n",
              "12        2        4    0.250000\n",
              "13        3        5    0.250000\n",
              "14        4        1    0.250000\n",
              "15        4        2    0.250000\n",
              "16        5        3    0.250000\n",
              "17        8        1    0.250000\n",
              "18        1        5    0.200000\n",
              "19        2        9    0.200000\n",
              "20        5        1    0.200000\n",
              "21        9        2    0.200000\n",
              "22        1        3    0.166667\n",
              "23        2        3    0.166667\n",
              "24        3        1    0.166667\n",
              "25        3        2    0.166667"
            ]
          },
          "execution_count": 78,
          "metadata": {},
          "output_type": "execute_result"
        }
      ],
      "source": [
        "# Get user similarity\n",
        "users_similarity = gds.run_cypher('''\n",
        "CALL gds.nodeSimilarity.stream('ProjectttNeo4jGraph')\n",
        "YIELD node1, node2, similarity\n",
        "RETURN gds.util.asNode(node1).id AS UserID1, gds.util.asNode(node2).id AS UserID2, similarity\n",
        "ORDER BY similarity DESCENDING, UserID1, UserID2\n",
        "''')\n",
        "users_similarity"
      ]
    },
    {
      "cell_type": "markdown",
      "metadata": {
        "id": "JevwBqsNrPSN"
      },
      "source": [
        "Next, we create a new relationship between users. Similarity score between them is add as an attribute."
      ]
    },
    {
      "cell_type": "code",
      "execution_count": null,
      "metadata": {},
      "outputs": [
        {
          "name": "stdout",
          "output_type": "stream",
          "text": [
            "1\n",
            "2\n",
            "3\n",
            "4\n",
            "5\n",
            "6\n",
            "7\n",
            "8\n",
            "9\n",
            "10\n"
          ]
        },
        {
          "data": {
            "text/html": [
              "<div>\n",
              "<style scoped>\n",
              "    .dataframe tbody tr th:only-of-type {\n",
              "        vertical-align: middle;\n",
              "    }\n",
              "\n",
              "    .dataframe tbody tr th {\n",
              "        vertical-align: top;\n",
              "    }\n",
              "\n",
              "    .dataframe thead th {\n",
              "        text-align: right;\n",
              "    }\n",
              "</style>\n",
              "<table border=\"1\" class=\"dataframe\">\n",
              "  <thead>\n",
              "    <tr style=\"text-align: right;\">\n",
              "      <th></th>\n",
              "      <th>create_rated</th>\n",
              "    </tr>\n",
              "  </thead>\n",
              "  <tbody>\n",
              "    <tr>\n",
              "      <th>0</th>\n",
              "      <td>1</td>\n",
              "    </tr>\n",
              "  </tbody>\n",
              "</table>\n",
              "</div>"
            ],
            "text/plain": [
              "   create_rated\n",
              "0             1"
            ]
          },
          "execution_count": 79,
          "metadata": {},
          "output_type": "execute_result"
        }
      ],
      "source": [
        "# Create Similar relationship\n",
        "i=1\n",
        "for chunk in np.array_split(users_similarity.query('UserID1>UserID2'),10):\n",
        "  print(i)\n",
        "  create_similar = gds.run_cypher('''\n",
        "    unwind $data as row\n",
        "    match (u1:User{id: row.UserID1}), (u2:User{id: row.UserID2})\n",
        "    merge (u1)-[r:SIMILAR]->(u2)\n",
        "    set r.Similarity=row.similarity\n",
        "    return count(*) as create_rated\n",
        "    ''', params = {'data': chunk.to_dict('records')})\n",
        "  i = i+1\n",
        "create_similar.head()"
      ]
    },
    {
      "cell_type": "code",
      "execution_count": null,
      "metadata": {},
      "outputs": [
        {
          "name": "stdout",
          "output_type": "stream",
          "text": [
            "Iteration 1\n",
            "Iteration 2\n",
            "Iteration 3\n",
            "Iteration 4\n",
            "Iteration 5\n",
            "Iteration 6\n",
            "Iteration 7\n",
            "Iteration 8\n",
            "Iteration 9\n",
            "Iteration 10\n"
          ]
        },
        {
          "data": {
            "text/html": [
              "<div>\n",
              "<style scoped>\n",
              "    .dataframe tbody tr th:only-of-type {\n",
              "        vertical-align: middle;\n",
              "    }\n",
              "\n",
              "    .dataframe tbody tr th {\n",
              "        vertical-align: top;\n",
              "    }\n",
              "\n",
              "    .dataframe thead th {\n",
              "        text-align: right;\n",
              "    }\n",
              "</style>\n",
              "<table border=\"1\" class=\"dataframe\">\n",
              "  <thead>\n",
              "    <tr style=\"text-align: right;\">\n",
              "      <th></th>\n",
              "      <th>create_rated</th>\n",
              "    </tr>\n",
              "  </thead>\n",
              "  <tbody>\n",
              "    <tr>\n",
              "      <th>0</th>\n",
              "      <td>2</td>\n",
              "    </tr>\n",
              "    <tr>\n",
              "      <th>0</th>\n",
              "      <td>2</td>\n",
              "    </tr>\n",
              "    <tr>\n",
              "      <th>0</th>\n",
              "      <td>2</td>\n",
              "    </tr>\n",
              "    <tr>\n",
              "      <th>0</th>\n",
              "      <td>1</td>\n",
              "    </tr>\n",
              "    <tr>\n",
              "      <th>0</th>\n",
              "      <td>1</td>\n",
              "    </tr>\n",
              "    <tr>\n",
              "      <th>0</th>\n",
              "      <td>1</td>\n",
              "    </tr>\n",
              "    <tr>\n",
              "      <th>0</th>\n",
              "      <td>1</td>\n",
              "    </tr>\n",
              "    <tr>\n",
              "      <th>0</th>\n",
              "      <td>1</td>\n",
              "    </tr>\n",
              "    <tr>\n",
              "      <th>0</th>\n",
              "      <td>1</td>\n",
              "    </tr>\n",
              "    <tr>\n",
              "      <th>0</th>\n",
              "      <td>1</td>\n",
              "    </tr>\n",
              "  </tbody>\n",
              "</table>\n",
              "</div>"
            ],
            "text/plain": [
              "   create_rated\n",
              "0             2\n",
              "0             2\n",
              "0             2\n",
              "0             1\n",
              "0             1\n",
              "0             1\n",
              "0             1\n",
              "0             1\n",
              "0             1\n",
              "0             1"
            ]
          },
          "execution_count": 80,
          "metadata": {},
          "output_type": "execute_result"
        }
      ],
      "source": [
        "\n",
        "# Split data into chunks\n",
        "chunks = np.array_split(users_similarity.query('UserID1>UserID2'), 10)\n",
        "\n",
        "# Store results in a list\n",
        "create_similar_results = []\n",
        "\n",
        "for i, chunk in enumerate(chunks):\n",
        "    print(f\"Iteration {i + 1}\")\n",
        "    create_similar = gds.run_cypher('''\n",
        "        UNWIND $data as row\n",
        "        MATCH (u1:User{id: row.UserID1}), (u2:User{id: row.UserID2})\n",
        "        MERGE (u1)-[r:SIMILAR]->(u2)\n",
        "        SET r.Similarity=row.similarity\n",
        "        RETURN count(*) as create_rated\n",
        "    ''', params={'data': chunk.to_dict('records')})\n",
        "    \n",
        "    # append the result to the list\n",
        "    create_similar_results.append(create_similar)\n",
        "create_similar_df = pd.concat([result.head() for result in create_similar_results])\n",
        "\n",
        "# display the final DataFrame\n",
        "create_similar_df\n"
      ]
    },
    {
      "cell_type": "markdown",
      "metadata": {
        "id": "7ydxVxz6rilT"
      },
      "source": [
        "In order to recommend movies to $user_1$, we:   \n",
        "1. find similar users and then movies they have rated\n",
        "2. for each movie we found in step (1), we calculate average rating weighted by similariy score:  \n",
        "$ r_{m,avg}=\\frac{1}{\\sum s_{user_2}}\\sum s_{user_2}r_{m}$   \n",
        "where sum runs over all paths   \n",
        "$(user_1)-[s_{user_2}]-(user_2)-[r_m]→(movie)\\$  \n",
        "\n",
        "In the implementation below, we add term $log(number\\_of\\_paths)$ to boost movies that are connected to $user_1$ throught multiple such paths. "
      ]
    },
    {
      "cell_type": "code",
      "execution_count": null,
      "metadata": {
        "colab": {
          "base_uri": "https://localhost:8080/",
          "height": 363
        },
        "id": "9xzy-G9M19hO",
        "outputId": "4c7924cd-cd52-47bc-b05c-e459535848e0"
      },
      "outputs": [
        {
          "data": {
            "text/html": [
              "<div>\n",
              "<style scoped>\n",
              "    .dataframe tbody tr th:only-of-type {\n",
              "        vertical-align: middle;\n",
              "    }\n",
              "\n",
              "    .dataframe tbody tr th {\n",
              "        vertical-align: top;\n",
              "    }\n",
              "\n",
              "    .dataframe thead th {\n",
              "        text-align: right;\n",
              "    }\n",
              "</style>\n",
              "<table border=\"1\" class=\"dataframe\">\n",
              "  <thead>\n",
              "    <tr style=\"text-align: right;\">\n",
              "      <th></th>\n",
              "      <th>m.Title</th>\n",
              "      <th>m.Genres</th>\n",
              "      <th>score</th>\n",
              "    </tr>\n",
              "  </thead>\n",
              "  <tbody>\n",
              "    <tr>\n",
              "      <th>0</th>\n",
              "      <td>GoldenEye (1995)</td>\n",
              "      <td>Action|Adventure|Thriller</td>\n",
              "      <td>5.000000</td>\n",
              "    </tr>\n",
              "    <tr>\n",
              "      <th>1</th>\n",
              "      <td>Apollo 13 (1995)</td>\n",
              "      <td>Action|Adventure|Thriller</td>\n",
              "      <td>4.568147</td>\n",
              "    </tr>\n",
              "    <tr>\n",
              "      <th>2</th>\n",
              "      <td>Johnny Mnemonic (1995)</td>\n",
              "      <td>Action</td>\n",
              "      <td>4.000000</td>\n",
              "    </tr>\n",
              "    <tr>\n",
              "      <th>3</th>\n",
              "      <td>Waiting to Exhale (1995)</td>\n",
              "      <td>Comedy|Drama</td>\n",
              "      <td>3.000000</td>\n",
              "    </tr>\n",
              "  </tbody>\n",
              "</table>\n",
              "</div>"
            ],
            "text/plain": [
              "                    m.Title                   m.Genres     score\n",
              "0          GoldenEye (1995)  Action|Adventure|Thriller  5.000000\n",
              "1          Apollo 13 (1995)  Action|Adventure|Thriller  4.568147\n",
              "2    Johnny Mnemonic (1995)                     Action  4.000000\n",
              "3  Waiting to Exhale (1995)               Comedy|Drama  3.000000"
            ]
          },
          "execution_count": 81,
          "metadata": {},
          "output_type": "execute_result"
        }
      ],
      "source": [
        "# Check similar movies\n",
        "similar_movies_for_user = gds.run_cypher('''\n",
        "    MATCH (u1:User)-[r1:SIMILAR]-(u2)-[r2:RATED]-(m:Movie)\n",
        "    WHERE id(u1)=$id\n",
        "    AND NOT ( (u1)-[]-(m))\n",
        "    RETURN m.Title,m.Genres,Sum(r1.Similarity*r2.Rating)/sum(r1.Similarity)+log(count(r2)) as score\n",
        "    ORDER BY score DESC\n",
        "''',params = {'id':1})\n",
        "similar_movies_for_user.head(10)"
      ]
    },
    {
      "cell_type": "code",
      "execution_count": null,
      "metadata": {
        "colab": {
          "base_uri": "https://localhost:8080/",
          "height": 363
        },
        "id": "T8sXNvnk2Vnd",
        "outputId": "73f43031-2c65-4c9d-b66f-3dec64ec3a1e"
      },
      "outputs": [
        {
          "data": {
            "text/html": [
              "<div>\n",
              "<style scoped>\n",
              "    .dataframe tbody tr th:only-of-type {\n",
              "        vertical-align: middle;\n",
              "    }\n",
              "\n",
              "    .dataframe tbody tr th {\n",
              "        vertical-align: top;\n",
              "    }\n",
              "\n",
              "    .dataframe thead th {\n",
              "        text-align: right;\n",
              "    }\n",
              "</style>\n",
              "<table border=\"1\" class=\"dataframe\">\n",
              "  <thead>\n",
              "    <tr style=\"text-align: right;\">\n",
              "      <th></th>\n",
              "      <th>m.Title</th>\n",
              "      <th>m.Genres</th>\n",
              "      <th>rating</th>\n",
              "    </tr>\n",
              "  </thead>\n",
              "  <tbody>\n",
              "    <tr>\n",
              "      <th>0</th>\n",
              "      <td>GoldenEye (1995)</td>\n",
              "      <td>Action|Adventure|Thriller</td>\n",
              "      <td>5</td>\n",
              "    </tr>\n",
              "    <tr>\n",
              "      <th>1</th>\n",
              "      <td>Johnny Mnemonic (1995)</td>\n",
              "      <td>Action</td>\n",
              "      <td>4</td>\n",
              "    </tr>\n",
              "    <tr>\n",
              "      <th>2</th>\n",
              "      <td>Toy Story (1995)</td>\n",
              "      <td>Animation|Children's|Comedy</td>\n",
              "      <td>4</td>\n",
              "    </tr>\n",
              "  </tbody>\n",
              "</table>\n",
              "</div>"
            ],
            "text/plain": [
              "                  m.Title                     m.Genres  rating\n",
              "0        GoldenEye (1995)    Action|Adventure|Thriller       5\n",
              "1  Johnny Mnemonic (1995)                       Action       4\n",
              "2        Toy Story (1995)  Animation|Children's|Comedy       4"
            ]
          },
          "execution_count": 82,
          "metadata": {},
          "output_type": "execute_result"
        }
      ],
      "source": [
        "# Check actual movies\n",
        "movies_for_user = gds.run_cypher('''\n",
        "    MATCH (u1:User)-[r:RATED]-(m:Movie)\n",
        "  WHERE id(u1)=$id\n",
        "  RETURN m.Title,m.Genres,r.Rating as rating\n",
        "  ORDER BY rating DESC\n",
        "''',params = {'id':2})\n",
        "movies_for_user.head(10)"
      ]
    }
  ],
  "metadata": {
    "colab": {
      "authorship_tag": "ABX9TyMRltGxvGwxHPB/VlEFOBt2",
      "include_colab_link": true,
      "provenance": []
    },
    "kernelspec": {
      "display_name": "Python 3",
      "name": "python3"
    },
    "language_info": {
      "codemirror_mode": {
        "name": "ipython",
        "version": 3
      },
      "file_extension": ".py",
      "mimetype": "text/x-python",
      "name": "python",
      "nbconvert_exporter": "python",
      "pygments_lexer": "ipython3",
      "version": "3.11.4"
    }
  },
  "nbformat": 4,
  "nbformat_minor": 0
}
